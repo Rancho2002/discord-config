{
 "cells": [
  {
   "cell_type": "code",
   "execution_count": 4,
   "metadata": {},
   "outputs": [
    {
     "name": "stdout",
     "output_type": "stream",
     "text": [
      "dict_keys([3, 0, 4, 5, 9])\n",
      "[9, 5, 4, 3, 0]\n",
      "None\n"
     ]
    }
   ],
   "source": [
    "class Solution:\n",
    "    # @param A : tuple of integers\n",
    "    # @return a strings          \n",
    "        \n",
    "    def largestNumber(self, A):\n",
    "        d={}\n",
    "        for i in A:\n",
    "            d[i%10]=i\n",
    "        # print(d.keys())\n",
    "        l=sorted(list(d.keys()),reverse=True)\n",
    "        s=\"\"\n",
    "        for i in l:\n",
    "            s+=d[i]\n",
    "        return s\n",
    "a=Solution()\n",
    "print(a.largestNumber([3, 30, 34, 5, 9]))"
   ]
  }
 ],
 "metadata": {
  "kernelspec": {
   "display_name": "Python 3",
   "language": "python",
   "name": "python3"
  },
  "language_info": {
   "codemirror_mode": {
    "name": "ipython",
    "version": 3
   },
   "file_extension": ".py",
   "mimetype": "text/x-python",
   "name": "python",
   "nbconvert_exporter": "python",
   "pygments_lexer": "ipython3",
   "version": "3.11.0rc1"
  }
 },
 "nbformat": 4,
 "nbformat_minor": 2
}
